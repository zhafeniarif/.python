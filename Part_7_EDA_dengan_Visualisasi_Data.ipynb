{
  "nbformat": 4,
  "nbformat_minor": 0,
  "metadata": {
    "colab": {
      "provenance": []
    },
    "kernelspec": {
      "name": "python3",
      "display_name": "Python 3"
    },
    "language_info": {
      "name": "python"
    }
  },
  "cells": [
    {
      "cell_type": "markdown",
      "source": [
        "## EDA dengan Visualisasi Data\n",
        "> **Exploratory Data Analysis (EDA)** adalah proses statistik yang bertujuan untuk mengidentifikasi karakteristik dan hubungan antar variabel serta menyusun ringkasan deskriptif dari dataset sebelum analisis lebih lanjut.\n",
        "\n",
        "EDA bukanlah analisis akhir, melainkan langkah awal dalam mengenal dataset secara menyeluruh. Proses ini membantu seorang analis atau data scientist memahami pola, *outliers*, tren, dan keterkaitan antar variabel yang tersembunyi di dalam data. Dari sini, kita bisa merumuskan hipotesis awal, mengenali anomali, dan mengidentifikasi variabel yang relevan untuk analisis mendalam berikutnya.\n",
        "\n",
        "### Mengapa EDA Penting?\n",
        "EDA sangat penting untuk memastikan data sudah dipahami dengan baik sebelum masuk ke tahap analisis yang lebih kompleks. Melalui EDA, kita dapat:\n",
        "- Mengidentifikasi pola umum dalam data.\n",
        "- Mengenali *outliers* atau anomali yang mungkin memengaruhi analisis.\n",
        "- Melakukan pengecekan kualitas data, seperti missing values atau data duplikat.\n",
        "- Menemukan keterkaitan antar variabel yang mungkin signifikan dalam analisis lebih lanjut.\n",
        "- Menyusun dasar yang lebih kuat untuk model prediktif atau analisis lanjutan.\n",
        "\n",
        "### Pengantar ke Visualisasi Data dalam EDA\n",
        "Salah satu cara efektif dalam EDA adalah dengan menggunakan visualisasi data. Visualisasi dapat mempercepat proses pemahaman karakteristik data, seperti distribusi, tren, dan korelasi. Dengan visualisasi, kita dapat menangkap informasi penting yang mungkin tidak terlihat hanya dengan memeriksa tabel data.\n",
        "\n",
        "Pada sesi ini, kita akan melakukan beberapa teknik visualisasi seperti histogram, box plot, dan scatter plot untuk menjelajahi variabel dalam dataset *Flights*. Teknik-teknik ini akan membantu kita mengidentifikasi tren musiman, rata-rata keterlambatan, dan pola-pola lainnya.\n",
        "\n",
        "### Praktik EDA dengan Profiling Data\n",
        "Untuk memperkenalkan EDA, kita akan melakukan praktik profiling data terhadap dataset *Flights*, yang mencakup teknik peringkasan statistik dan visualisasi data. Sesi ini bertujuan untuk menggali informasi terkait pembatalan penerbangan, keterlambatan keberangkatan, dan faktor-faktor lain yang memengaruhi kinerja maskapai dan bandara sepanjang tahun 2013.\n",
        "\n",
        "### DATASETS\n",
        "#### Flights\n",
        "Dataset *Flights* adalah dataset utama yang akan kita gunakan untuk praktik EDA. Dataset ini berisi informasi penerbangan yang mencakup berbagai maskapai dari beberapa bandara di AS sepanjang tahun 2013. Terdapat variabel penting dalam dataset ini, seperti:\n",
        "- Waktu keberangkatan dan kedatangan.\n",
        "- Keterlambatan keberangkatan dan kedatangan.\n",
        "- Jarak tempuh.\n",
        "- Waktu tempuh penerbangan.\n",
        "\n",
        "Dengan informasi tersebut, kita dapat menganalisis pola keterlambatan dan frekuensi penerbangan, serta faktor-faktor yang mungkin berkontribusi terhadap pembatalan atau keterlambatan.\n",
        "\n",
        "Dokumentasi lengkap terkait dataset ini bisa ditemukan pada [link ini](https://vincentarelbundock.github.io/Rdatasets/doc/nycflights13/flights.html).\n",
        "\n",
        "#### Airports\n",
        "Dataset *Airports* adalah data pendukung untuk dataset *Flights*. Dataset ini berisi:\n",
        "- Kode bandara (FAA code).\n",
        "- Nama bandara.\n",
        "- Lokasi geografis (lintang dan bujur).\n",
        "- Zona waktu bandara.\n",
        "\n",
        "Dataset ini memungkinkan kita untuk menggabungkan data lokasi bandara dengan data penerbangan, sehingga kita dapat menganalisis pola keterlambatan yang mungkin berbeda di setiap lokasi atau zona waktu.\n",
        "\n",
        "#### Airlines\n",
        "Dataset *Airlines* juga mendukung dataset *Flights* dengan memberikan informasi tambahan terkait maskapai. Dataset ini berisi:\n",
        "- Kode maskapai.\n",
        "- Nama maskapai yang beroperasi sepanjang tahun 2013 di AS.\n",
        "\n",
        "Informasi ini memungkinkan kita mengidentifikasi maskapai mana yang paling sering mengalami keterlambatan atau memiliki performa tepat waktu.\n",
        "\n",
        "### LINGKUP ANALISIS\n",
        "\n",
        "Untuk praktik kali ini, fokus kita adalah menggali informasi mengenai keterlambatan dan pembatalan penerbangan. Beberapa analisis yang akan kita lakukan meliputi:\n",
        "- **Pembatalan Penerbangan**: Melihat tren pembatalan penerbangan, frekuensi berdasarkan bulan, serta apakah ada faktor musiman yang memengaruhi pembatalan.\n",
        "- **Keterlambatan Keberangkatan**: Meneliti rata-rata keterlambatan keberangkatan untuk setiap maskapai dan bandara, serta mengidentifikasi jam-jam atau bulan-bulan dengan keterlambatan tertinggi.\n",
        "  \n",
        "Beberapa contoh visualisasi yang akan kita buat:\n",
        "1. **Histogram atau Box Plot untuk Keterlambatan**: Untuk menunjukkan distribusi keterlambatan keberangkatan, kita akan menggunakan histogram atau box plot. Visualisasi ini akan membantu dalam memahami apakah keterlambatan biasanya berada dalam rentang tertentu atau ada outlier signifikan.\n",
        "2. **Scatter Plot untuk Menilai Keterkaitan**: Dengan scatter plot, kita bisa melihat korelasi antara durasi keterlambatan dengan jumlah penerbangan pada bandara atau maskapai tertentu.\n",
        "3. **Heatmap untuk Pola Musiman**: Heatmap bisa kita gunakan untuk melihat pola musiman atau harian dalam keterlambatan penerbangan. Dengan ini, kita dapat menganalisis kapan keterlambatan paling sering terjadi.\n",
        "\n",
        "### Langkah-Langkah EDA\n",
        "Dalam melakukan EDA, kita akan melalui beberapa langkah berikut:\n",
        "1. **Pengecekan Data Awal**: Memastikan data sudah lengkap dan memeriksa apakah ada missing values, duplikat, atau inkonsistensi lainnya.\n",
        "2. **Ringkasan Statistik**: Menghasilkan ringkasan deskriptif seperti rata-rata, median, dan standar deviasi untuk variabel-variabel utama.\n",
        "3. **Visualisasi Dasar**: Melihat distribusi, outliers, dan pola-pola dasar melalui grafik histogram, box plot, atau bar plot.\n",
        "4. **Pemeriksaan Keterkaitan Antar Variabel**: Mengidentifikasi korelasi atau hubungan antar variabel dengan menggunakan scatter plot dan perhitungan koefisien korelasi.\n",
        "5. **Analisis Pola Musiman**: Memanfaatkan heatmap atau line plot untuk melihat tren musiman dalam keterlambatan atau frekuensi penerbangan.\n",
        "\n",
        "Dengan menyelesaikan langkah-langkah ini, kita akan memiliki pemahaman awal yang kuat mengenai struktur dan karakteristik dari dataset *Flights*. Pemahaman ini akan membantu kita dalam menyusun hipotesis awal atau melakukan analisis lanjutan yang lebih mendalam."
      ],
      "metadata": {
        "id": "hZhdTMEfunwD"
      }
    },
    {
      "cell_type": "markdown",
      "source": [
        "### Parsing & Checking Dataset"
      ],
      "metadata": {
        "id": "zv8XHf5k2czP"
      }
    },
    {
      "cell_type": "code",
      "execution_count": null,
      "metadata": {
        "id": "RkoGJUVGuANO"
      },
      "outputs": [],
      "source": [
        "import pandas as pd, matplotlib.pyplot as plt, seaborn as sns, numpy as np"
      ]
    },
    {
      "cell_type": "code",
      "source": [
        "flights_file_path = \"https://vincentarelbundock.github.io/Rdatasets/csv/nycflights13/flights.csv\"\n",
        "airports_file_path = \"https://vincentarelbundock.github.io/Rdatasets/csv/nycflights13/airports.csv\"\n",
        "airlines_file_path = \"https://vincentarelbundock.github.io/Rdatasets/csv/nycflights13/airlines.csv\""
      ],
      "metadata": {
        "id": "BGF_AiIchlfv"
      },
      "execution_count": null,
      "outputs": []
    },
    {
      "cell_type": "code",
      "source": [
        "df = pd.read_csv(flights_file_path, index_col='rownames', nrows=5)\n",
        "airports = pd.read_csv(airports_file_path, index_col='rownames', nrows=5)\n",
        "airlines = pd.read_csv(airlines_file_path, index_col='rownames', nrows=5)"
      ],
      "metadata": {
        "id": "lB0ASKXDvQ2V"
      },
      "execution_count": null,
      "outputs": []
    },
    {
      "cell_type": "markdown",
      "source": [
        "#### Check Structure"
      ],
      "metadata": {
        "id": "hOyKGHB3LZFe"
      }
    },
    {
      "cell_type": "code",
      "source": [
        "df.info()"
      ],
      "metadata": {
        "id": "O9JkZdYA9TkR"
      },
      "execution_count": null,
      "outputs": []
    },
    {
      "cell_type": "code",
      "source": [
        "df"
      ],
      "metadata": {
        "id": "2JfPX-gANL0O"
      },
      "execution_count": null,
      "outputs": []
    },
    {
      "cell_type": "code",
      "source": [
        "airlines.info()"
      ],
      "metadata": {
        "id": "N4HfKo0F3Rfa"
      },
      "execution_count": null,
      "outputs": []
    },
    {
      "cell_type": "code",
      "source": [
        "airlines"
      ],
      "metadata": {
        "id": "4YhNO1rgA-bJ"
      },
      "execution_count": null,
      "outputs": []
    },
    {
      "cell_type": "code",
      "source": [
        "airports.info()"
      ],
      "metadata": {
        "id": "rNAhgnxm4Ivp"
      },
      "execution_count": null,
      "outputs": []
    },
    {
      "cell_type": "code",
      "source": [
        "airports"
      ],
      "metadata": {
        "id": "obYeqE6-BEqK"
      },
      "execution_count": null,
      "outputs": []
    },
    {
      "cell_type": "markdown",
      "source": [
        "#### Descriptive Statistics: Flights Dataset"
      ],
      "metadata": {
        "id": "48E_Vk2eLlyR"
      }
    },
    {
      "cell_type": "code",
      "source": [
        "pd.read_csv(flights_file_path, index_col='rownames').describe(include='all')"
      ],
      "metadata": {
        "id": "k_mGKUmZLtjp"
      },
      "execution_count": null,
      "outputs": []
    },
    {
      "cell_type": "markdown",
      "source": [
        "#### Missing Values"
      ],
      "metadata": {
        "id": "yom2rB6ILuMg"
      }
    },
    {
      "cell_type": "code",
      "source": [
        "df.isna().sum()"
      ],
      "metadata": {
        "id": "BZ2iAydu3HA3"
      },
      "execution_count": null,
      "outputs": []
    },
    {
      "cell_type": "code",
      "source": [
        "df.loc[df['dep_time'].isna(), :].isna().sum()"
      ],
      "metadata": {
        "id": "bHHudchw3zJq"
      },
      "execution_count": null,
      "outputs": []
    },
    {
      "cell_type": "code",
      "source": [
        "df.loc[df['arr_time'].isna(), :].isna().sum()"
      ],
      "metadata": {
        "id": "w6vN7_rV4REj"
      },
      "execution_count": null,
      "outputs": []
    },
    {
      "cell_type": "code",
      "source": [
        "df.loc[df['arr_delay'].isna(), :]"
      ],
      "metadata": {
        "id": "EH1n63fn4zVt"
      },
      "execution_count": null,
      "outputs": []
    },
    {
      "cell_type": "markdown",
      "source": [
        "____\n",
        "**RESUME**\n",
        "\n",
        "1. `dep_time`, perlu dijadikan data `datetime`;\n",
        "2. `sched_dep_time`, perlu dijadikan data `datetime`;\n",
        "3. `arr_time`, perlu dijadikan data `datetime`;\n",
        "4. `sched_arr_time`, perlu dijadikan data `datetime`;\n",
        "5. `dep_time` missing values adalah cancelled flights;\n",
        "\n",
        "____"
      ],
      "metadata": {
        "id": "FVb2Y2AF99d_"
      }
    },
    {
      "cell_type": "markdown",
      "source": [
        "### Data Manipulation"
      ],
      "metadata": {
        "id": "Ve5gk9wiL4il"
      }
    },
    {
      "cell_type": "code",
      "source": [
        "# Parsing flights dataset ke dataframe bernama df_flights\n",
        "df_flights = (pd.read_csv(flights_file_path, index_col='rownames')\n",
        "# Data Manipulations:\n",
        ".assign(\n",
        "     # Casting departure time ke format 'YYYY-mm-dd HH:MM'\n",
        "     dep_datetime=lambda df: (\n",
        "         pd.to_datetime(\n",
        "             # Menyisipkan format 'YYYY\n",
        "             df['year'].astype(str)+'-'+\n",
        "             # Menyisipkan format 'mm'\n",
        "             df['month'].astype(str)+'-'+\n",
        "             # Menyisipkan format 'dd'\n",
        "             df['day'].astype(str)+' '+\n",
        "             # Menyusun format 'HH:MM'\n",
        "             (\n",
        "                 df['dep_time']                      # Ambil elemen dep_time\n",
        "                 .fillna(2500)                       # isi missing value dengan 2500\n",
        "                 .astype(int)                        # cast semua elemen menjadi integer (menghilangkan karakter'.0')\n",
        "                 .astype(str)                        # cast semua elemen menjadi string\n",
        "                 .str                                # lakukan operasi string\n",
        "                 .zfill(4)                           # gunakan method zfill mengisi '0' di awal elemen jika jumlah karakter kurang dari 4\n",
        "                 .apply(lambda x: x[:2]+':'+x[2:])), # menyisipkan ':' di tengah elemen\n",
        "             # Melengkapi parameter format & errors\n",
        "             format='%Y-%m-%d %H:%M',                # Memberi informasi pola tanggal yang harus dikonversi\n",
        "             errors='coerce')),                      # Memastikan agar jika casting gagal, isi dengan 'NaT'\n",
        "     # Casting Scheduled departure time ke format 'YYYY-mm-dd HH:MM'\n",
        "     sched_dep_datetime=lambda df: (\n",
        "         pd.to_datetime(\n",
        "            # Menyusun format 'YYYY-mm-dd'\n",
        "            df['year'].astype(str)+'-'+\n",
        "            df['month'].astype(str)+'-'+\n",
        "            df['day'].astype(str)+' '+\n",
        "            # Menyisipkan format 'HH:MM'\n",
        "            (\n",
        "                df['sched_dep_time']\n",
        "                .fillna(2500)\n",
        "                .astype(int)\n",
        "                .astype(str)\n",
        "                .str\n",
        "                .zfill(4)\n",
        "                .apply(lambda x: x[:2]+':'+x[2:])),\n",
        "         # Lengkapi parameter format dan errors\n",
        "         format='%Y-%m-%d %H:%M', errors='coerce')),\n",
        "     # Casting Scheduled Arrival Time ke format 'YYYY-mm-dd HH:MM'\n",
        "     sched_arr_datetime=lambda df: (\n",
        "         pd.to_datetime(\n",
        "             # Menyusun format 'YYYY-mm-dd HH:MM'\n",
        "             df['year'].astype(str)+'-'+\n",
        "             df['month'].astype(str)+'-'+\n",
        "             df['day'].astype(str)+' '+\n",
        "             (\n",
        "                 df['sched_arr_time']\n",
        "                 .fillna(2500)\n",
        "                 .astype(int)\n",
        "                 .astype(str)\n",
        "                 .str\n",
        "                 .zfill(4)\n",
        "                 .apply(lambda x: x[:2]+':'+x[2:])),\n",
        "             # Lengkapi parameter format dan errors\n",
        "             format='%Y-%m-%d %H:%M', errors='coerce')+\n",
        "         # Operasi penambahan hari jika terjadi penerbangan antar hari\n",
        "         pd.to_timedelta(\n",
        "             # Buat operasi kondisional\n",
        "             np.where(\n",
        "                 df['arr_time']<df['dep_time'], # Kondisi yang dicek\n",
        "                 1,                             # Value jika True\n",
        "                 0),                            # Value jika False\n",
        "             unit='d')),                        # Set satuan bagi timedelta=day\n",
        "     # Casting Arrival Time ke format 'YYYY-mm-dd HH:MM'\n",
        "     arr_datetime=lambda df: (\n",
        "         pd.to_datetime(\n",
        "             # Menyusun format 'YYYY-mm-dd HH:MM'\n",
        "             df['year'].astype(str)+'-'+\n",
        "             df['month'].astype(str)+'-'+\n",
        "             df['day'].astype(str)+' '+\n",
        "             (\n",
        "                 df['arr_time']\n",
        "                 .fillna(2500)\n",
        "                 .astype(int)\n",
        "                 .astype(str)\n",
        "                 .str\n",
        "                 .zfill(4)\n",
        "                 .apply(lambda x: x[:2]+':'+x[2:])),\n",
        "             format='%Y-%m-%d %H:%M', errors='coerce')+\n",
        "         # Tambahkan 1 hari untuk penerbangan antar hari\n",
        "         pd.to_timedelta(np.where(df['arr_time']<df['dep_time'], 1, 0), unit='d')),\n",
        ")\n",
        "# Tambahkan informasi nama Bandara Asal\n",
        ".merge(\n",
        "     # Parse dataset airports\n",
        "     pd.read_csv(airports_file_path, index_col='rownames', usecols=['rownames', 'faa', 'name']),\n",
        "     left_on='origin',\n",
        "     right_on='faa',\n",
        "     how='left',\n",
        "     suffixes=('', '_origin'))\n",
        "# Tambahkan informasi nama Tandara Tujuan\n",
        ".merge(\n",
        "     # Parse dataset airports\n",
        "     pd.read_csv(airports_file_path, index_col='rownames', usecols=['rownames', 'faa', 'name']),\n",
        "     left_on='dest',\n",
        "     right_on='faa',\n",
        "     how='left',\n",
        "     suffixes=('', '_dest'))\n",
        "# Tambahkan informasi nama Maskapai\n",
        ".merge(\n",
        "     # Parse dataset airlines\n",
        "     pd.read_csv(airlines_file_path, index_col='rownames', usecols=['rownames', 'carrier', 'name']),\n",
        "     left_on='carrier',\n",
        "     right_on='carrier',\n",
        "     how='left',\n",
        "     suffixes=('', '_airlines'))\n",
        "# Rubah beberapa nama kolom\n",
        ".rename(\n",
        "     columns={\n",
        "         'name':'from',\n",
        "         'name_dest':'to',\n",
        "         'name_airlines':'airline'})\n",
        "# Filter hanya kolom-kolom penting saja\n",
        ".loc[:, [\n",
        "     'flight', 'airline', 'tailnum', 'origin', 'from', 'dest', 'to',\n",
        "     'sched_dep_datetime', 'dep_datetime', 'sched_arr_datetime', 'arr_datetime',\n",
        "     'dep_delay']])"
      ],
      "metadata": {
        "id": "aL6ZBgVTTznu"
      },
      "execution_count": null,
      "outputs": []
    },
    {
      "cell_type": "code",
      "source": [
        "df_flights.head()"
      ],
      "metadata": {
        "id": "pM0tCrEwBaXi"
      },
      "execution_count": null,
      "outputs": []
    },
    {
      "cell_type": "code",
      "source": [
        "df_flights.info()"
      ],
      "metadata": {
        "id": "NHlFQo28S6Dw"
      },
      "execution_count": null,
      "outputs": []
    },
    {
      "cell_type": "code",
      "source": [
        "df_flights.isna().sum()"
      ],
      "metadata": {
        "id": "P5i_KOMVyVkz"
      },
      "execution_count": null,
      "outputs": []
    },
    {
      "cell_type": "code",
      "source": [
        "df_flights.describe()"
      ],
      "metadata": {
        "id": "lw5c8Hh7y9SM"
      },
      "execution_count": null,
      "outputs": []
    },
    {
      "cell_type": "code",
      "source": [
        "df_flights.loc[df_flights['to'].isna(), :]['dest'].unique()"
      ],
      "metadata": {
        "id": "f7vQ6TOBodPS"
      },
      "execution_count": null,
      "outputs": []
    },
    {
      "cell_type": "code",
      "source": [
        "df_flights.info()"
      ],
      "metadata": {
        "id": "fPrAtF_gixaT"
      },
      "execution_count": null,
      "outputs": []
    },
    {
      "cell_type": "code",
      "source": [
        "df_flights.describe()"
      ],
      "metadata": {
        "id": "Hmw2UIf0kKUi"
      },
      "execution_count": null,
      "outputs": []
    },
    {
      "cell_type": "code",
      "source": [
        "df_flights.describe(include='O')"
      ],
      "metadata": {
        "id": "oNN1laaxjKVi"
      },
      "execution_count": null,
      "outputs": []
    },
    {
      "cell_type": "markdown",
      "source": [
        "## Cek Duplikat"
      ],
      "metadata": {
        "id": "VizD6EkN1k0S"
      }
    },
    {
      "cell_type": "code",
      "source": [
        "# Mengecek apakah ada duplikat berdasarkan seluruh row\n",
        "filter_duplikasi = df_flights.duplicated(keep=False)\n",
        "df_flights.loc[filter_duplikasi, :]"
      ],
      "metadata": {
        "id": "tGLaN7vF0vCZ"
      },
      "execution_count": null,
      "outputs": []
    },
    {
      "cell_type": "markdown",
      "source": [
        "## Summarizing data dengan `pd.DataFrame.groupby` dan `pd.pivot_table`"
      ],
      "metadata": {
        "id": "mAUZe7-Out7_"
      }
    },
    {
      "cell_type": "code",
      "source": [
        "# Menghitung maskapai dengan pembatalan penerbangan terbanyak\n",
        "(df_flights\n",
        " .loc[df_flights['dep_datetime'].isna()]\n",
        " .groupby(['airline'])\n",
        " .agg({'sched_dep_datetime':'count'})\n",
        " .rename(columns={'sched_dep_datetime':'Cancelled Flights'}))"
      ],
      "metadata": {
        "id": "qgJch93QrGRC"
      },
      "execution_count": null,
      "outputs": []
    },
    {
      "cell_type": "code",
      "source": [
        "# Menghitung tingkat pembatalan penerbangan per maskapai\n",
        "(pd.pivot_table(\n",
        "    data=df_flights,\n",
        "    index='airline',\n",
        "    values=['dep_datetime', 'sched_dep_datetime'],\n",
        "    aggfunc='count')\n",
        ".rename(\n",
        "    columns={\n",
        "        'dep_datetime':'Actual_Flights',\n",
        "        'sched_dep_datetime':'Scheduled_Flights'})\n",
        ".assign(\n",
        "    Cancelled_Flights=lambda df: df['Scheduled_Flights']-df['Actual_Flights'],\n",
        "    Cancelled_Flights_Percentage=lambda df: round(df['Cancelled_Flights']/df['Scheduled_Flights']*100, 2))\n",
        ".sort_values(by='Cancelled_Flights_Percentage', ascending=False)\n",
        ".loc[:, ['Cancelled_Flights', 'Cancelled_Flights_Percentage']])"
      ],
      "metadata": {
        "id": "vkEM8ytYsG6J"
      },
      "execution_count": null,
      "outputs": []
    },
    {
      "cell_type": "code",
      "source": [
        "# Menghitung tingkat pembatalan penerbangan per Bandara\n",
        "(pd.pivot_table(\n",
        "    data=df_flights,\n",
        "    index=['from'],\n",
        "    values=['dep_datetime', 'sched_dep_datetime'],\n",
        "    aggfunc='count')\n",
        ".assign(\n",
        "    Cancelled_Flights=lambda df: df['sched_dep_datetime']-df['dep_datetime'],\n",
        "    Cancelled_Flights_Percentage=lambda df: round(df['Cancelled_Flights']/df['sched_dep_datetime']*100, 2))\n",
        ".sort_values(by='Cancelled_Flights_Percentage', ascending=False))"
      ],
      "metadata": {
        "id": "bpj8KFS8Dh7-"
      },
      "execution_count": null,
      "outputs": []
    },
    {
      "cell_type": "code",
      "source": [
        "# Menghitung Rata-rata Keterlambatan Keberangkatan per maskapai\n",
        "(df_flights\n",
        " .assign(\n",
        "     departure_delay=lambda df: (\n",
        "         df['dep_delay']\n",
        "         .apply(lambda x: 0 if x<0 else x ))\n",
        "     )\n",
        " .groupby(['airline'])\n",
        " .agg({'flight':'count', 'departure_delay':'mean'})\n",
        " .sort_values(by='departure_delay', ascending=False)\n",
        " ).round(2)"
      ],
      "metadata": {
        "id": "Ng8zyKJbwO_T"
      },
      "execution_count": null,
      "outputs": []
    },
    {
      "cell_type": "code",
      "source": [
        "# Menghitung Rata-rata Keterlambatan Keberangkatan bulanan per Bandara\n",
        "# 1. Buat list berisi nama-nama bulan\n",
        "month_categories = ['January', 'February', 'March', 'April', 'May', 'June', 'July', 'August', 'September', 'October', 'November', 'December']\n",
        "\n",
        "# 2. Olah data\n",
        "pd.pivot_table(\n",
        "    data=(\n",
        "        df_flights\n",
        "        .assign(\n",
        "            departure_delay=lambda df: (\n",
        "                df['dep_delay']\n",
        "                .apply(lambda x: 0 if x<0 else x)),\n",
        "            month=pd.Categorical(\n",
        "                df_flights['dep_datetime'].dt.month_name(),\n",
        "                categories=month_categories,\n",
        "                ordered=True\n",
        "                ))),\n",
        "    index=['from'],\n",
        "    values='departure_delay',\n",
        "    columns=['month'],\n",
        "    aggfunc='mean',\n",
        "    observed=False\n",
        ").round(2)"
      ],
      "metadata": {
        "id": "cf_-dYwFusGB"
      },
      "execution_count": null,
      "outputs": []
    },
    {
      "cell_type": "code",
      "source": [
        "# Menghitung Rata-rata Keterlambatan Keberangkatan bulanan per Maskapai\n",
        "pd.pivot_table(\n",
        "    data=(df_flights\n",
        "        .assign(\n",
        "            departure_delay=lambda df: (\n",
        "                df['dep_delay']\n",
        "                .apply(lambda x: 0 if x<0 else x)),\n",
        "            month=pd.Categorical(\n",
        "                df_flights['dep_datetime'].dt.month_name(),\n",
        "                categories=month_categories,\n",
        "                ordered=True\n",
        "                ))),\n",
        "    index=['airline'],\n",
        "    values='departure_delay',\n",
        "    columns=['month'],\n",
        "    aggfunc='mean',\n",
        "    observed=False\n",
        ").fillna(0).round(2)"
      ],
      "metadata": {
        "id": "Wf91P0kfFudw"
      },
      "execution_count": null,
      "outputs": []
    },
    {
      "cell_type": "markdown",
      "source": [
        "## Line Plot"
      ],
      "metadata": {
        "id": "n2dSO5QxG2tm"
      }
    },
    {
      "cell_type": "code",
      "source": [
        "plt.figure(figsize=(15, 5))\n",
        "fig = sns.lineplot(\n",
        "    data=(df_flights\n",
        "          .assign(month=pd.Categorical(\n",
        "              df_flights['dep_datetime'].dt.month_name(),\n",
        "              categories=month_categories, ordered=True))\n",
        "          .groupby(['from', 'month'], observed=False)\n",
        "          .agg({'arr_datetime':'count'}).reset_index()),\n",
        "    x='month',\n",
        "    y='arr_datetime',\n",
        "    hue='from'\n",
        "  )\n",
        "plt.xlabel('Bulan')\n",
        "plt.ylabel('Jumlah Penerbangan')\n",
        "plt.title(\"Jumlah Penerbangan Bulanan Tiga Bandara Terpilih, 2013\")\n",
        "plt.grid()\n",
        "plt.show()"
      ],
      "metadata": {
        "id": "CBDzX3B1HE7S"
      },
      "execution_count": null,
      "outputs": []
    },
    {
      "cell_type": "code",
      "source": [
        "plt.figure(figsize=(15, 5))\n",
        "fig = sns.lineplot(\n",
        "    data = (df_flights\n",
        "            .assign(month=pd.Categorical(\n",
        "                df_flights['dep_datetime'].dt.month_name(),\n",
        "                categories=month_categories,\n",
        "                ordered=True\n",
        "            )).groupby(['airline', 'month'], observed=False)\n",
        "            .agg({'flight':'count'})).reset_index(),\n",
        "    x='month',\n",
        "    y='flight',\n",
        "    hue='airline'\n",
        ")\n",
        "plt.legend(loc='upper right', )\n",
        "plt.xlabel('Bulan')\n",
        "plt.ylabel('Jumlah Keberangkatan')\n",
        "plt.grid()\n",
        "plt.show()"
      ],
      "metadata": {
        "id": "LnUo6ZsgbBgs"
      },
      "execution_count": null,
      "outputs": []
    },
    {
      "cell_type": "code",
      "source": [
        "plt.figure(figsize=(15, 5))\n",
        "fig = sns.lineplot(\n",
        "    data = (df_flights\n",
        "            .assign(month=pd.Categorical(\n",
        "                df_flights['dep_datetime'].dt.month_name(),\n",
        "                categories=month_categories,\n",
        "                ordered=True\n",
        "            )).groupby(['from', 'month'], observed=False)\n",
        "            .agg({'dep_delay':'mean'})).reset_index(),\n",
        "    x='month',\n",
        "    y='dep_delay',\n",
        "    hue='from'\n",
        ")\n",
        "plt.xlabel('Bulan')\n",
        "plt.ylabel('Keterlambatan Keberangkatan (Menit)')\n",
        "plt.title(\"Rata-rata Keterlambatan Keberangkatan Perbulan di Bandara Terpilih, 2013\")\n",
        "plt.grid()\n",
        "plt.show()"
      ],
      "metadata": {
        "id": "P3SyPRvu4yJD"
      },
      "execution_count": null,
      "outputs": []
    },
    {
      "cell_type": "code",
      "source": [
        "plt.figure(figsize=(15, 5))\n",
        "fig = sns.lineplot(\n",
        "    data = (df_flights\n",
        "            .assign(month=pd.Categorical(\n",
        "                df_flights['dep_datetime'].dt.month_name(),\n",
        "                categories=month_categories,\n",
        "                ordered=True\n",
        "            )).groupby(['airline', 'month'], observed=False)\n",
        "            .agg({'dep_delay':'mean'})).reset_index(),\n",
        "    x='month',\n",
        "    y='dep_delay',\n",
        "    hue='airline'\n",
        ")\n",
        "plt.legend(loc='upper right', )\n",
        "plt.xlabel('Bulan')\n",
        "plt.ylabel('Keterlambatan Keberangkatan (Menit)')\n",
        "plt.grid()\n",
        "plt.show()"
      ],
      "metadata": {
        "id": "4nFFqDRSZslW"
      },
      "execution_count": null,
      "outputs": []
    },
    {
      "cell_type": "code",
      "source": [
        "plt.figure(figsize=[15, 5])\n",
        "fig = sns.lineplot(\n",
        "    data=(df_flights.loc[df_flights['dep_datetime'].notnull(), :]\n",
        "          .groupby([df_flights['dep_datetime'].dt.isocalendar().week, 'from'])\n",
        "          .agg({'flight':'count'})).reset_index(),\n",
        "    x='week',\n",
        "    y='flight',\n",
        "    hue='from'\n",
        ")\n",
        "plt.xlabel('Tanggal')\n",
        "plt.ylabel('Jumlah Penerbangan')\n",
        "plt.title(\"Jumlah Penerbangan Mingguan di Tiga Bandara Terpilih, 2013\")\n",
        "plt.grid()\n",
        "plt.show()"
      ],
      "metadata": {
        "id": "gQ25dF-QXU32"
      },
      "execution_count": null,
      "outputs": []
    },
    {
      "cell_type": "code",
      "source": [
        "plt.figure(figsize=[15, 5])\n",
        "fig = sns.lineplot(\n",
        "    data=(df_flights.loc[df_flights['dep_datetime'].notnull(), :]\n",
        "          .groupby([df_flights['dep_datetime'].dt.isocalendar().week, 'from'])\n",
        "          .agg({'dep_delay':'mean'})).reset_index(),\n",
        "    x='week',\n",
        "    y='dep_delay',\n",
        "    hue='from'\n",
        ")\n",
        "plt.xlabel('Tanggal')\n",
        "plt.ylabel('Keterlambatan Keberangkatan (menit)')\n",
        "plt.title(\"Rata-rata Keterlambatan Keberangkatan per Penerbangan Mingguan di Bandara NYC, 2013\")\n",
        "plt.grid()\n",
        "plt.show()"
      ],
      "metadata": {
        "id": "En2im9V4YJlg"
      },
      "execution_count": null,
      "outputs": []
    },
    {
      "cell_type": "code",
      "source": [
        "plt.figure(figsize=[15, 5])\n",
        "fig = sns.lineplot(\n",
        "    data=(df_flights.loc[df_flights['dep_datetime'].notnull(), :]\n",
        "          .groupby([df_flights['dep_datetime'].dt.date, 'from'])\n",
        "          .agg({'flight':'count'})).reset_index(),\n",
        "    x='dep_datetime',\n",
        "    y='flight',\n",
        "    hue='from'\n",
        ")\n",
        "plt.xlabel('Tanggal')\n",
        "plt.ylabel('Jumlah Penerbangan')\n",
        "plt.title(\"Jumlah Penerbangan Harian di Bandara NYC, 2013\")\n",
        "plt.grid()\n",
        "plt.show()"
      ],
      "metadata": {
        "id": "Nz48nu68QEGv"
      },
      "execution_count": null,
      "outputs": []
    },
    {
      "cell_type": "code",
      "source": [
        "plt.figure(figsize=[15, 5])\n",
        "fig = sns.lineplot(\n",
        "    data=(df_flights\n",
        "          .groupby([df_flights['dep_datetime'].dt.date, 'from'])\n",
        "          .agg({'dep_delay':'mean'})).reset_index(),\n",
        "    x='dep_datetime',\n",
        "    y='dep_delay',\n",
        "    hue='from'\n",
        ")\n",
        "plt.xlabel('Tanggal')\n",
        "plt.ylabel('Keterlambatan Keberangkatan (menit)')\n",
        "plt.title(\"Rata-rata Keterlambatan Keberangkatan Harian di Bandara NYC, 2013\")\n",
        "plt.grid()\n",
        "plt.show()"
      ],
      "metadata": {
        "id": "hZEjgBq0Shsg"
      },
      "execution_count": null,
      "outputs": []
    },
    {
      "cell_type": "markdown",
      "source": [
        "## Barplot"
      ],
      "metadata": {
        "id": "dEPo7y3xJzU3"
      }
    },
    {
      "cell_type": "code",
      "source": [
        "plt.figure(figsize=(10, 5))\n",
        "fig = sns.barplot(\n",
        "    data=(df_flights\n",
        "          .groupby('from')\n",
        "          .agg({'flight':'count'})\n",
        "          .reset_index()),\n",
        "    x='from',\n",
        "    y='flight'\n",
        ")\n",
        "for container in fig.containers:\n",
        "  fig.bar_label(container, fmt=\"{:,.0f}\", fontsize=10, color='maroon', fontweight='bold')\n",
        "\n",
        "plt.xlabel('Bandara')\n",
        "plt.ylabel('Jumlah Penerbangan')\n",
        "plt.title(\"Jumlah Penerbangan dari Bandara NYC, 2013\")\n",
        "plt.grid(axis='y')\n",
        "plt.show()"
      ],
      "metadata": {
        "id": "dYxAPlH-KC7o"
      },
      "execution_count": null,
      "outputs": []
    },
    {
      "cell_type": "code",
      "source": [
        "plt.figure(figsize=(10, 5))\n",
        "fig = sns.barplot(\n",
        "    data=(df_flights\n",
        "          .assign(\n",
        "              departure_delay=lambda df: (\n",
        "                  df['dep_delay']\n",
        "                  .apply(lambda x: 0 if x<0 else x ))\n",
        "              )\n",
        "          .groupby(['from'])\n",
        "          .agg({'departure_delay':'mean'})\n",
        "          .sort_values(by='departure_delay', ascending=False)\n",
        "          ).round(2),\n",
        "    x='from',\n",
        "    y='departure_delay'\n",
        ")\n",
        "\n",
        "for container in fig.containers:\n",
        "  fig.bar_label(container, fmt=\"{:,.2f}\", fontsize=10, color='maroon', fontweight='bold')\n",
        "\n",
        "plt.xlabel('Bandara')\n",
        "plt.ylabel('Keterlambatan Keberangkatan (Menit)')\n",
        "plt.title(\"Rata-rata Keterlambatan Keberangkatan per Bandara NYC, 2013\")\n",
        "plt.grid(axis='y')\n",
        "plt.show()"
      ],
      "metadata": {
        "id": "sCG5z4X4Knce"
      },
      "execution_count": null,
      "outputs": []
    },
    {
      "cell_type": "code",
      "source": [
        "plt.figure(figsize=(15, 5))\n",
        "fig = sns.barplot(\n",
        "    data=(df_flights\n",
        "          .groupby(['airline'])\n",
        "          .agg({'flight':'count'})\n",
        "          .reset_index()\n",
        "          .sort_values(by='flight')),\n",
        "    x='airline',\n",
        "    y='flight'\n",
        ")\n",
        "\n",
        "for container in fig.containers:\n",
        "  fig.bar_label(container, fmt=\"{:,.0f}\", fontsize=10, color='maroon', fontweight='bold')\n",
        "\n",
        "plt.xlabel('Maskapai')\n",
        "plt.ylabel('Jumlah Penerbangan')\n",
        "plt.title(\"Jumlah Penerbangan per Maskapai, 2013\")\n",
        "plt.xticks(rotation=45)\n",
        "plt.grid(axis='y')\n",
        "plt.show()"
      ],
      "metadata": {
        "id": "L9LoZNchlQSh"
      },
      "execution_count": null,
      "outputs": []
    },
    {
      "cell_type": "code",
      "source": [
        "plt.figure(figsize=(15, 5))\n",
        "fig = sns.barplot(\n",
        "    data=(df_flights\n",
        "          .assign(\n",
        "              departure_delay=lambda df: (\n",
        "                  df['dep_delay']\n",
        "                  .apply(lambda x: 0 if x<0 else x ))\n",
        "              )\n",
        "          .groupby(['airline'])\n",
        "          .agg({'departure_delay':'mean'})\n",
        "          .sort_values(by='departure_delay', ascending=True)\n",
        "          ).round(2),\n",
        "    x='airline',\n",
        "    y='departure_delay',\n",
        "    hue='departure_delay',\n",
        "    alpha=0.5,\n",
        "    edgecolor='yellow',\n",
        "    palette='Reds',\n",
        "    linewidth=2\n",
        ")\n",
        "\n",
        "for container in fig.containers:\n",
        "  fig.bar_label(container, fmt=\"{:,.2f}\", fontsize=10, color='maroon', fontweight='bold')\n",
        "\n",
        "plt.xlabel('Maskapai')\n",
        "plt.ylabel('Keterlambatan Keberangkatan (Menit)')\n",
        "plt.title(\"Rata-rata Keterlambatan Keberangkatan per Maskapai, 2013\")\n",
        "plt.xticks(rotation=45)\n",
        "plt.grid(axis='y')\n",
        "plt.show()"
      ],
      "metadata": {
        "id": "9bkJP_OBl8GJ"
      },
      "execution_count": null,
      "outputs": []
    },
    {
      "cell_type": "code",
      "source": [
        "airline = input(\"Tuliskan Nama Maskapai: \")\n",
        "plt.figure(figsize=(15, 5))\n",
        "fig = sns.barplot(\n",
        "    data=(df_flights\n",
        "          .loc[df_flights['airline'].str.contains(f'\\\\b{airline}\\\\b'), :]\n",
        "          .assign(\n",
        "              departure_delay=lambda df: (\n",
        "                  df['dep_delay']\n",
        "                  .apply(lambda x: 0 if x<0 else x ))\n",
        "              )\n",
        "          .groupby(['from'])\n",
        "          .agg({'departure_delay':'mean'})\n",
        "          .reset_index()),\n",
        "    x='from',\n",
        "    y='departure_delay',\n",
        "    alpha=0.8,\n",
        "    hue='departure_delay',\n",
        "    palette='Greens',\n",
        "    edgecolor='yellow',\n",
        "    linewidth=3\n",
        ")\n",
        "\n",
        "for container in fig.containers:\n",
        "  fig.bar_label(container, fmt=\"{:,.2f}\", fontsize=10, color='maroon', fontweight='bold')\n",
        "\n",
        "plt.xlabel('Bandara')\n",
        "plt.ylabel('Keterlambatan Keberangkatan (Menit)')\n",
        "plt.title(f\"Rata-rata Keterlambatan Keberangkatan Maskapai {airline} per Bandara, 2013\")\n",
        "plt.grid(axis='y')\n",
        "plt.show()"
      ],
      "metadata": {
        "id": "7e3YmmGppX0G"
      },
      "execution_count": null,
      "outputs": []
    },
    {
      "cell_type": "code",
      "source": [
        "bandara = input(\"Tuliskan Nama Bandara: \")\n",
        "plt.figure(figsize=(15, 5))\n",
        "fig = sns.barplot(\n",
        "    data=(df_flights\n",
        "          .assign(\n",
        "              departure_delay=lambda df: (\n",
        "                  df['dep_delay']\n",
        "                  .apply(lambda x: 0 if x<0 else x ))\n",
        "              )\n",
        "          .loc[df_flights['from'].str.lower().str.contains(pat=f\"\\\\b{bandara}\\\\b\")]\n",
        "          .groupby(df_flights['dep_datetime'].dt.hour)\n",
        "          .agg({'departure_delay':'mean'})\n",
        "          .reset_index()),\n",
        "    x='dep_datetime',\n",
        "    y='departure_delay',\n",
        "    alpha=0.8,\n",
        "    palette='Blues',\n",
        "    edgecolor='yellow',\n",
        "    linewidth=3,\n",
        "    hue='departure_delay'\n",
        ")\n",
        "\n",
        "for container in fig.containers:\n",
        "  fig.bar_label(container, fmt=\"{:,.1f}\", fontsize=9, color='maroon', fontweight='bold')\n",
        "\n",
        "plt.xlabel('Jam Keberangkatan')\n",
        "plt.ylabel('Keterlambatan Keberangkatan (Menit)')\n",
        "plt.title(f\"Rata-rata Keterlambatan Keberangkatan di Bandara {bandara.title()}\\nBerdasarkan Jam Operasional, 2013\")\n",
        "plt.grid(axis='y')\n",
        "plt.show()"
      ],
      "metadata": {
        "id": "L24fdT2ky238"
      },
      "execution_count": null,
      "outputs": []
    },
    {
      "cell_type": "markdown",
      "source": [
        "## Histogram"
      ],
      "metadata": {
        "id": "hEj9utZCNGxP"
      }
    },
    {
      "cell_type": "code",
      "source": [
        "for airport in df_flights['from'].unique():\n",
        "  plt.figure(figsize=(10, 5))\n",
        "  fig = sns.histplot(\n",
        "      data=(df_flights\n",
        "            .loc[df_flights['from']==airport, :]\n",
        "            .groupby([df_flights['dep_datetime'].dt.date, 'airline', 'from'])\n",
        "            .agg({'dep_delay':'mean'})),\n",
        "      x='dep_delay',\n",
        "      bins=100,\n",
        "      multiple='stack',\n",
        "      element='step',\n",
        "      alpha=0.3,\n",
        "      kde=True,\n",
        "      hue='airline')\n",
        "  plt.title(f\"Sebaran Data Keterlambatan Keberangkatan Harian di {airport} Airport, 2013\")\n",
        "  plt.xlim(None, 100)\n",
        "  plt.grid()\n",
        "  plt.show()"
      ],
      "metadata": {
        "id": "4Z8MRQ6IM2CC"
      },
      "execution_count": null,
      "outputs": []
    },
    {
      "cell_type": "markdown",
      "source": [
        "# Boxplot"
      ],
      "metadata": {
        "id": "k9HhyFQ2-t55"
      }
    },
    {
      "cell_type": "code",
      "source": [
        "plt.figure(figsize=(10, 5))\n",
        "sns.boxplot(\n",
        "    data=(df_flights\n",
        "          .groupby([df_flights['dep_datetime'].dt.month_name(), 'airline', 'from'])\n",
        "          .agg({'dep_delay':'mean'})),\n",
        "    y='dep_delay',\n",
        "    hue='from')\n",
        "plt.show()"
      ],
      "metadata": {
        "id": "YVGnbbJ3ldjE"
      },
      "execution_count": null,
      "outputs": []
    },
    {
      "cell_type": "code",
      "source": [
        "plt.figure(figsize=(15,5))\n",
        "sns.boxplot(data=(df_flights\n",
        "                  .assign(month=lambda df: pd.Categorical(\n",
        "                      df['dep_datetime'].dt.month_name(),\n",
        "                      categories=month_categories,\n",
        "                      ordered=True\n",
        "                  ))\n",
        "                  .groupby(['month','airline', 'from'], observed=True)\n",
        "                  .agg({'dep_delay':'mean'})),\n",
        "            y='dep_delay',\n",
        "            x='month',\n",
        "            hue='from')\n",
        "plt.grid()\n",
        "plt.show()"
      ],
      "metadata": {
        "id": "0USCxu6V-yQ8"
      },
      "execution_count": null,
      "outputs": []
    },
    {
      "cell_type": "markdown",
      "source": [
        "# Violin Plot"
      ],
      "metadata": {
        "id": "eKgIUKc8eX0f"
      }
    },
    {
      "cell_type": "code",
      "source": [
        "plt.figure(figsize=(15,5))\n",
        "sns.violinplot(data=(df_flights\n",
        "                     .assign(\n",
        "                         month=lambda df: pd.Categorical(\n",
        "                             df['dep_datetime'].dt.month_name(),\n",
        "                             categories=month_categories,\n",
        "                             ordered=True))\n",
        "                     .groupby(['month', 'airline', 'from'], observed=False)\n",
        "                     .agg({'dep_delay':'mean'})),\n",
        "               y='dep_delay',\n",
        "               x='month',\n",
        "               hue='from')\n",
        "plt.grid()\n",
        "plt.show()"
      ],
      "metadata": {
        "id": "iX-cyWAMeX0t"
      },
      "execution_count": null,
      "outputs": []
    },
    {
      "cell_type": "markdown",
      "source": [
        "## Scatterplot"
      ],
      "metadata": {
        "id": "zULqXWk3MdHN"
      }
    },
    {
      "cell_type": "code",
      "source": [
        "airlines_delay_flights = (df_flights\n",
        "                          .assign(\n",
        "                              departure_delay=lambda df: (\n",
        "                                  df['dep_delay']\n",
        "                                  .apply(lambda x: 0 if x<0 else x)))\n",
        "                          .groupby([df_flights['dep_datetime'].dt.date, 'from'])\n",
        "                          .agg({'departure_delay':'mean', 'flight':'count'})\n",
        "                          .reset_index().\n",
        "                          rename(columns={'departure_delay':'departureDelay', 'flight':'flights'}))\n",
        "korelasi_delay_flights = round(np.corrcoef(airlines_delay_flights['departureDelay'], airlines_delay_flights['flights'])[0][1]*100, 2)\n",
        "plt.figure(figsize=(10, 10))\n",
        "sns.scatterplot(data=airlines_delay_flights, x='departureDelay', y='flights', hue='from')\n",
        "plt.title(f\"Koefisien Korelasi 'departureDelay' & 'flights' = {korelasi_delay_flights}\" )\n",
        "plt.show()"
      ],
      "metadata": {
        "id": "QzMNuiUcWPAO"
      },
      "execution_count": null,
      "outputs": []
    },
    {
      "cell_type": "code",
      "source": [
        "delay_flights_by_hour = (df_flights\n",
        "                         .assign(\n",
        "                             departure_delay=lambda df: (\n",
        "                                  df['dep_delay']\n",
        "                                  .apply(lambda x: 0 if x<0 else x)),\n",
        "                             jam=lambda df: df['dep_datetime'].dt.hour)\n",
        "                         .groupby(['jam', 'from'])\n",
        "                         .agg({'flight':'count', 'departure_delay':'mean'})\n",
        "                         .reset_index()\n",
        "                         .rename(columns={'flight':'flights', 'departure_delay':'departureDelay'}))\n",
        "korelasi_delay_hour = round(np.corrcoef(delay_flights_by_hour['flights'], delay_flights_by_hour['departureDelay'])[0][1]*100, 2)\n",
        "plt.figure(figsize=(10, 10))\n",
        "sns.scatterplot(data=delay_flights_by_hour, x='departureDelay', y='flights', hue='from')\n",
        "plt.title(f\"Koefisien Korelasi 'flights' & 'departureDelay' = {korelasi_delay_hour}\")\n",
        "plt.show()"
      ],
      "metadata": {
        "id": "IXWHdEGIc6bz"
      },
      "execution_count": null,
      "outputs": []
    },
    {
      "cell_type": "code",
      "source": [
        "delay_flights_by_day = (df_flights\n",
        "                         .assign(\n",
        "                             departure_delay=lambda df: (\n",
        "                                  df['dep_delay']\n",
        "                                  .apply(lambda x: 0 if x<0 else x)),\n",
        "                             hari=lambda df: df['dep_datetime'].dt.date)\n",
        "                         .groupby(['hari', 'airline'])\n",
        "                         .agg({'dep_datetime':'count', 'departure_delay':'mean'})\n",
        "                         .reset_index()\n",
        "                         .rename(columns={'dep_datetime':'flights', 'departure_delay':'departureDelay'}))\n",
        "korelasi_delay_day = round(np.corrcoef(delay_flights_by_day['flights'], delay_flights_by_day['departureDelay'])[0][1]*100, 2)\n",
        "plt.figure(figsize=(10, 10))\n",
        "sns.scatterplot(data=delay_flights_by_day, x='departureDelay', y='flights', hue='airline')\n",
        "plt.title(f\"Koefisien Korelasi 'flights' & 'departureDelay' = {korelasi_delay_day}\" )\n",
        "plt.show()"
      ],
      "metadata": {
        "id": "xAKLvADgjwAD"
      },
      "execution_count": null,
      "outputs": []
    },
    {
      "cell_type": "code",
      "source": [
        "delay_flights_by_month = (df_flights\n",
        "                         .assign(\n",
        "                             departure_delay=lambda df: (\n",
        "                                  df['dep_delay']\n",
        "                                  .apply(lambda x: 0 if x<0 else x)),\n",
        "                             month=lambda df: df['dep_datetime'].dt.month)\n",
        "                         .groupby(['month', 'airline'])\n",
        "                         .agg({'dep_datetime':'count', 'departure_delay':'mean'})\n",
        "                         .reset_index()\n",
        "                         .rename(columns={'dep_datetime':'flights', 'departure_delay':'departureDelay'}))\n",
        "korelasi_delay_month = round(np.corrcoef(delay_flights_by_month['flights'], delay_flights_by_month['departureDelay'])[0][1]*100, 2)\n",
        "plt.figure(figsize=(10, 10))\n",
        "sns.scatterplot(data=delay_flights_by_month, x='departureDelay', y='flights', hue='airline')\n",
        "plt.title(f\"Koefisien Korelasi 'flights' & 'departureDelay' = {korelasi_delay_month}\" )\n",
        "plt.show()"
      ],
      "metadata": {
        "id": "gz8U-UxQiwe5"
      },
      "execution_count": null,
      "outputs": []
    },
    {
      "cell_type": "markdown",
      "source": [
        "## Heatmap"
      ],
      "metadata": {
        "id": "7jJP8KfbOUZ4"
      }
    },
    {
      "cell_type": "code",
      "source": [
        "data = pd.pivot_table(\n",
        "    data=df_flights.assign(month=lambda df: pd.Categorical(df['dep_datetime'].dt.month_name(), categories=month_categories, ordered=True)),\n",
        "    index=['airline', 'month'],\n",
        "    columns='from',\n",
        "    values='dep_delay',\n",
        "    aggfunc='mean',\n",
        "    observed=False\n",
        ").fillna(0)\n",
        "data"
      ],
      "metadata": {
        "id": "shU3AgS2NKcv"
      },
      "execution_count": null,
      "outputs": []
    },
    {
      "cell_type": "code",
      "source": [
        "maskapai = input(\"Tuliskan Nama Maskapai: \")\n",
        "plt.figure(figsize=(15, 5))\n",
        "sns.heatmap(data.loc[maskapai, :], cmap='magma')\n",
        "plt.title(f\"Heatmap Rataan Keterlambatan Keberangkatan Bulanan Maskapai {maskapai} di Tiga Bandara, 2013.\" )\n",
        "plt.show()"
      ],
      "metadata": {
        "id": "i5qpQkiePAQq"
      },
      "execution_count": null,
      "outputs": []
    },
    {
      "cell_type": "code",
      "source": [
        "dt_by_hour = pd.pivot_table(\n",
        "    data=df_flights.assign(jam=lambda df: df['dep_datetime'].dt.hour),\n",
        "    index=['airline', 'jam'],\n",
        "    columns='from',\n",
        "    values='dep_delay',\n",
        "    aggfunc='mean',\n",
        "    observed=False\n",
        ").fillna(0)\n",
        "maskapai = input(\"Tuliskan Nama Maskapai: \")\n",
        "plt.figure(figsize=(10, 5))\n",
        "sns.heatmap(data = dt_by_hour.loc[maskapai, :], cmap='magma')\n",
        "plt.title(f\"Heatmap Rataan Keterlambatan Keberangkatan per Jam Operasi Maskapai {maskapai}\\ndi Bandara NYC, 2013.\" )\n",
        "plt.show()"
      ],
      "metadata": {
        "id": "VNhqDU0Gsphu"
      },
      "execution_count": null,
      "outputs": []
    },
    {
      "cell_type": "code",
      "source": [
        "df_flights['airline'].unique()"
      ],
      "metadata": {
        "id": "WUDfoVX9ltHO"
      },
      "execution_count": null,
      "outputs": []
    }
  ]
}